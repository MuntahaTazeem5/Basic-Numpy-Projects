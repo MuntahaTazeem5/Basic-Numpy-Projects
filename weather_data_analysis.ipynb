{
  "nbformat": 4,
  "nbformat_minor": 0,
  "metadata": {
    "colab": {
      "provenance": [],
      "authorship_tag": "ABX9TyPwCI7gPluCCpPaL/01xDK7",
      "include_colab_link": true
    },
    "kernelspec": {
      "name": "python3",
      "display_name": "Python 3"
    },
    "language_info": {
      "name": "python"
    }
  },
  "cells": [
    {
      "cell_type": "markdown",
      "metadata": {
        "id": "view-in-github",
        "colab_type": "text"
      },
      "source": [
        "<a href=\"https://colab.research.google.com/github/MuntahaTazeem5/Basic-Numpy-Projects/blob/main/weather_data_analysis.ipynb\" target=\"_parent\"><img src=\"https://colab.research.google.com/assets/colab-badge.svg\" alt=\"Open In Colab\"/></a>"
      ]
    },
    {
      "cell_type": "markdown",
      "source": [
        "**Weather Data Analysis 🌦️**\n",
        "\n",
        "**Problem Statement:**\n",
        "\n",
        "You are given hourly temperature readings of a city for 30 days (720 values). Find:\n",
        "\n",
        "The average temperature per day\n",
        "\n",
        "The maximum and minimum temperature recorded\n",
        "\n",
        "How many times the temperature went above 40°C\n",
        "\n",
        "👉 Methods you’ll use:\n",
        "\n",
        "np.reshape() (to group data into 30×24 matrix)\n",
        "\n",
        "np.mean(axis=1)\n",
        "\n",
        "np.max(), np.min()\n",
        "\n",
        "Boolean indexing (arr > 40)."
      ],
      "metadata": {
        "id": "4vlu1oaC754H"
      }
    },
    {
      "cell_type": "code",
      "execution_count": null,
      "metadata": {
        "id": "Xvz4iIyR0WV-"
      },
      "outputs": [],
      "source": [
        "import numpy as np\n",
        "import pandas as pd"
      ]
    },
    {
      "cell_type": "code",
      "source": [
        "df = pd.read_csv(\"/content/temperature_data.csv\", header=None)\n",
        "\n",
        "# Convert the Temperature column to NumPy array\n",
        "temps = df.iloc[:, 0].values\n",
        "\n",
        "print(\"Total readings:\", len(temps))\n",
        "print(\"First 10 readings:\", temps[:10])"
      ],
      "metadata": {
        "colab": {
          "base_uri": "https://localhost:8080/"
        },
        "id": "uEFwQCj21Znz",
        "outputId": "f5081f03-babb-4cf9-8c37-1336ab651065"
      },
      "execution_count": null,
      "outputs": [
        {
          "output_type": "stream",
          "name": "stdout",
          "text": [
            "Total readings: 5\n",
            "First 10 readings: [10.5 15.1 12.7  8.9 12.3]\n"
          ]
        }
      ]
    },
    {
      "cell_type": "code",
      "source": [
        "\n",
        "temps_matrix = np.reshape(temps, (5, 1))"
      ],
      "metadata": {
        "id": "0JPTfxLq2Y4m"
      },
      "execution_count": null,
      "outputs": []
    },
    {
      "cell_type": "code",
      "source": [
        "print(\"Temperature Matrix:\")\n",
        "print(temps_matrix)"
      ],
      "metadata": {
        "colab": {
          "base_uri": "https://localhost:8080/"
        },
        "id": "TREbujkx2-gG",
        "outputId": "950c3988-490e-4e6a-a8e1-25b2417bfbde"
      },
      "execution_count": null,
      "outputs": [
        {
          "output_type": "stream",
          "name": "stdout",
          "text": [
            "Temperature Matrix:\n",
            "[[10.5]\n",
            " [15.1]\n",
            " [12.7]\n",
            " [ 8.9]\n",
            " [12.3]]\n"
          ]
        }
      ]
    },
    {
      "cell_type": "code",
      "source": [
        "max_temps=np.max(temps)\n",
        "min_temps=np.min(temps)\n"
      ],
      "metadata": {
        "id": "6MfuJurA1xSO"
      },
      "execution_count": null,
      "outputs": []
    },
    {
      "cell_type": "code",
      "source": [
        "print(\"\\n maximum temprerature recorded: \",max_temps)\n"
      ],
      "metadata": {
        "colab": {
          "base_uri": "https://localhost:8080/"
        },
        "id": "w-pIBpRC1-wF",
        "outputId": "214f3f70-262e-480a-bada-d9d93d6b0637"
      },
      "execution_count": null,
      "outputs": [
        {
          "output_type": "stream",
          "name": "stdout",
          "text": [
            "\n",
            " maximum temprerature recorded:  15.1\n"
          ]
        }
      ]
    },
    {
      "cell_type": "code",
      "source": [
        "print(\"\\n minimum temperature recorded: \",min_temps)"
      ],
      "metadata": {
        "colab": {
          "base_uri": "https://localhost:8080/"
        },
        "id": "QQTTDr1Q1_md",
        "outputId": "ef583351-ca5c-41f8-ddfc-90e50818ace8"
      },
      "execution_count": null,
      "outputs": [
        {
          "output_type": "stream",
          "name": "stdout",
          "text": [
            "\n",
            " minimum temperature recorded:  8.9\n"
          ]
        }
      ]
    },
    {
      "cell_type": "code",
      "source": [
        "avg_temps_per_day=np.mean(temps_matrix,axis=1)\n",
        "print(\"average temperature per day:\")\n",
        "print(avg_temps_per_day)"
      ],
      "metadata": {
        "colab": {
          "base_uri": "https://localhost:8080/"
        },
        "id": "l9uk2aRd3DUD",
        "outputId": "f4bf5fcd-ca80-4830-aca0-a78837b8aa86"
      },
      "execution_count": null,
      "outputs": [
        {
          "output_type": "stream",
          "name": "stdout",
          "text": [
            "average temperature per day:\n",
            "[10.5 15.1 12.7  8.9 12.3]\n"
          ]
        }
      ]
    },
    {
      "cell_type": "code",
      "source": [
        "count_above_40=np.sum(temps_matrix>40)\n",
        "print(\"\\n number of times temperature exceeded 40 degrees: \",count_above_40)"
      ],
      "metadata": {
        "colab": {
          "base_uri": "https://localhost:8080/"
        },
        "id": "a3yJkIFn3YLL",
        "outputId": "9e3760ad-0023-409d-bb7a-68485ed686e9"
      },
      "execution_count": null,
      "outputs": [
        {
          "output_type": "stream",
          "name": "stdout",
          "text": [
            "\n",
            " number of times temperature exceeded 40 degrees:  0\n"
          ]
        }
      ]
    }
  ]
}