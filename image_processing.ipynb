{
  "nbformat": 4,
  "nbformat_minor": 0,
  "metadata": {
    "colab": {
      "provenance": [],
      "authorship_tag": "ABX9TyPbJMzglKLUXp4Ia7PSrhcO",
      "include_colab_link": true
    },
    "kernelspec": {
      "name": "python3",
      "display_name": "Python 3"
    },
    "language_info": {
      "name": "python"
    }
  },
  "cells": [
    {
      "cell_type": "markdown",
      "metadata": {
        "id": "view-in-github",
        "colab_type": "text"
      },
      "source": [
        "<a href=\"https://colab.research.google.com/github/MuntahaTazeem5/Basic-Numpy-Projects/blob/main/image_processing.ipynb\" target=\"_parent\"><img src=\"https://colab.research.google.com/assets/colab-badge.svg\" alt=\"Open In Colab\"/></a>"
      ]
    },
    {
      "cell_type": "markdown",
      "source": [
        "**Image Processing (Grayscale Filter)**\n",
        "\n",
        "**Problem Statement:**\n",
        "\n",
        "A grayscale image is represented as a 2D NumPy array (each value = pixel intensity). You need to:\n",
        "\n",
        "Increase brightness by +50 (but cap at 255)\n",
        "\n",
        "Flip the image horizontally\n",
        "\n",
        "Find the average pixel intensity\n",
        "\n",
        "👉 Methods you’ll use:\n",
        "\n",
        "np.clip() (to cap values)\n",
        "\n",
        "np.fliplr() (flip left-right)\n",
        "\n",
        "np.mean()"
      ],
      "metadata": {
        "id": "F699vsYP8Y6C"
      }
    },
    {
      "cell_type": "code",
      "source": [
        "import numpy as np"
      ],
      "metadata": {
        "id": "lI86yUs48Ykr"
      },
      "execution_count": 1,
      "outputs": []
    },
    {
      "cell_type": "code",
      "execution_count": 2,
      "metadata": {
        "id": "pHvM2zlY7lvp"
      },
      "outputs": [],
      "source": [
        "image=np.array([\n",
        "    [120,200,90,30,225],\n",
        "    [60,80,100,200,220],\n",
        "    [30,40,50,60,70],\n",
        "    [180,190,200,210,220],\n",
        "    [10,20,30,40,50]\n",
        "    ])"
      ]
    },
    {
      "cell_type": "code",
      "source": [
        "bright_image=np.clip(image+50,0,225)\n"
      ],
      "metadata": {
        "id": "NGUdcmlj9AoI"
      },
      "execution_count": 3,
      "outputs": []
    },
    {
      "cell_type": "code",
      "source": [
        "print(\"\\n Brightened Image: \\n\",bright_image)"
      ],
      "metadata": {
        "colab": {
          "base_uri": "https://localhost:8080/"
        },
        "id": "jGHE2fEc9KJp",
        "outputId": "1b1745fd-b71b-4c5e-c8dc-0636b961257e"
      },
      "execution_count": 4,
      "outputs": [
        {
          "output_type": "stream",
          "name": "stdout",
          "text": [
            "\n",
            " Brightened Image: \n",
            " [[170 225 140  80 225]\n",
            " [110 130 150 225 225]\n",
            " [ 80  90 100 110 120]\n",
            " [225 225 225 225 225]\n",
            " [ 60  70  80  90 100]]\n"
          ]
        }
      ]
    },
    {
      "cell_type": "code",
      "source": [
        "flipped_image=np.fliplr(bright_image)"
      ],
      "metadata": {
        "id": "3KxWKkJo9TPo"
      },
      "execution_count": 6,
      "outputs": []
    },
    {
      "cell_type": "code",
      "source": [
        "print(\"\\n Horizontally Flipped Image: \",flipped_image)"
      ],
      "metadata": {
        "colab": {
          "base_uri": "https://localhost:8080/"
        },
        "id": "vCPeEUbB9cLz",
        "outputId": "1826ca5e-b5a3-4c2e-8a85-64ed3d1bb782"
      },
      "execution_count": 7,
      "outputs": [
        {
          "output_type": "stream",
          "name": "stdout",
          "text": [
            "\n",
            " Horizontally Flipped Image:  [[225  80 140 225 170]\n",
            " [225 225 150 130 110]\n",
            " [120 110 100  90  80]\n",
            " [225 225 225 225 225]\n",
            " [100  90  80  70  60]]\n"
          ]
        }
      ]
    },
    {
      "cell_type": "code",
      "source": [
        "avg_intensity=np.mean(flipped_image)\n"
      ],
      "metadata": {
        "id": "zVUHBls69utP"
      },
      "execution_count": 8,
      "outputs": []
    },
    {
      "cell_type": "code",
      "source": [
        "print(\"Average Pixel Intensity is: \",avg_intensity)"
      ],
      "metadata": {
        "colab": {
          "base_uri": "https://localhost:8080/"
        },
        "id": "n8ylvPg990zF",
        "outputId": "f9fcd2f8-c937-4a0d-aff4-7820cbb30314"
      },
      "execution_count": 9,
      "outputs": [
        {
          "output_type": "stream",
          "name": "stdout",
          "text": [
            "Average Pixel Intensity is:  148.2\n"
          ]
        }
      ]
    }
  ]
}