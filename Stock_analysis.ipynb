{
  "nbformat": 4,
  "nbformat_minor": 0,
  "metadata": {
    "colab": {
      "provenance": [],
      "authorship_tag": "ABX9TyM2BIB61NNg1rITVV5LpbLE",
      "include_colab_link": true
    },
    "kernelspec": {
      "name": "python3",
      "display_name": "Python 3"
    },
    "language_info": {
      "name": "python"
    }
  },
  "cells": [
    {
      "cell_type": "markdown",
      "metadata": {
        "id": "view-in-github",
        "colab_type": "text"
      },
      "source": [
        "<a href=\"https://colab.research.google.com/github/MuntahaTazeem5/Basic-Numpy-Projects/blob/main/Stock_analysis.ipynb\" target=\"_parent\"><img src=\"https://colab.research.google.com/assets/colab-badge.svg\" alt=\"Open In Colab\"/></a>"
      ]
    },
    {
      "cell_type": "markdown",
      "source": [
        "***Stock Market Returns 📈***\n",
        "\n",
        "**Statement:**\n",
        "You have daily stock prices of a company for 1 year (365 values). Find:\n",
        "\n",
        "The daily returns ((price[i+1] - price[i]) / price[i])\n",
        "\n",
        "The highest gain and highest loss\n",
        "\n",
        "The 7-day moving average\n",
        "\n",
        "**NumPy Methods Used:**\n",
        "\n",
        "np.diff() → consecutive differences\n",
        "\n",
        "np.max(), np.min() → find gain/loss\n",
        "\n",
        "np.convolve() → moving average"
      ],
      "metadata": {
        "id": "iNKqDPLSJqnu"
      }
    },
    {
      "cell_type": "code",
      "execution_count": 1,
      "metadata": {
        "id": "nu-yUZiLIHKP"
      },
      "outputs": [],
      "source": [
        "import numpy as np"
      ]
    },
    {
      "cell_type": "code",
      "source": [
        "np.random.seed(42)"
      ],
      "metadata": {
        "id": "mGJBrCfbJ9Il"
      },
      "execution_count": 2,
      "outputs": []
    },
    {
      "cell_type": "code",
      "source": [
        "prices = np.random.randint(100,500,size=365)"
      ],
      "metadata": {
        "id": "9tKGrAVgKGeq"
      },
      "execution_count": 3,
      "outputs": []
    },
    {
      "cell_type": "code",
      "source": [
        "# Daily returns: (price[i+1] - price[i]) / price[i]\n",
        "daily_returns = np.diff(prices) / prices[:-1]"
      ],
      "metadata": {
        "id": "Qtl9YMJcKWEw"
      },
      "execution_count": 8,
      "outputs": []
    },
    {
      "cell_type": "code",
      "source": [
        "highest_gain = np.max(daily_returns)\n",
        "highest_loss = np.min(daily_returns)"
      ],
      "metadata": {
        "id": "d_gjao9XLmMj"
      },
      "execution_count": 9,
      "outputs": []
    },
    {
      "cell_type": "code",
      "source": [
        "window_size=7\n",
        "moving_average=np.convolve(daily_returns,np.ones(window_size)/window_size,mode='valid')"
      ],
      "metadata": {
        "id": "1VrMR4p_Lepc"
      },
      "execution_count": 10,
      "outputs": []
    },
    {
      "cell_type": "code",
      "source": [
        "#OUTPUTS:\n",
        "print(\"Stock Analysis(365 days)\\n\")"
      ],
      "metadata": {
        "colab": {
          "base_uri": "https://localhost:8080/"
        },
        "id": "fbxHfy1bL81H",
        "outputId": "d0e731fb-4287-4c53-a01b-b74f154ff3db"
      },
      "execution_count": 18,
      "outputs": [
        {
          "output_type": "stream",
          "name": "stdout",
          "text": [
            "Stock Analysis(365 days)\n",
            "\n"
          ]
        }
      ]
    },
    {
      "cell_type": "code",
      "source": [
        "print(\"Daily Returns(first 10): \",daily_returns[:10])"
      ],
      "metadata": {
        "colab": {
          "base_uri": "https://localhost:8080/"
        },
        "id": "lZCMNzeJM1Vq",
        "outputId": "661b908e-2f3a-4c3a-aa48-0eec5e88c599"
      },
      "execution_count": 14,
      "outputs": [
        {
          "output_type": "stream",
          "name": "stdout",
          "text": [
            "Daily Returns(first 10):  [ 1.21782178 -0.17410714 -0.44324324 -0.16990291  0.68421053 -0.58333333\n",
            "  0.68333333  0.09405941  0.42081448  0.36942675]\n"
          ]
        }
      ]
    },
    {
      "cell_type": "code",
      "source": [
        "\n",
        "print(\"Highest Gain{: .2f}%\",highest_gain*100)"
      ],
      "metadata": {
        "colab": {
          "base_uri": "https://localhost:8080/"
        },
        "id": "-Q1ltn_VM3qS",
        "outputId": "edb5e37a-ee12-4f4d-a807-53c452ad69af"
      },
      "execution_count": 15,
      "outputs": [
        {
          "output_type": "stream",
          "name": "stdout",
          "text": [
            "Highest Gain{: .2f}% 384.15841584158414\n"
          ]
        }
      ]
    },
    {
      "cell_type": "code",
      "source": [
        "print(\"Highest Loss{: .2f}%\",highest_loss*100)"
      ],
      "metadata": {
        "colab": {
          "base_uri": "https://localhost:8080/"
        },
        "id": "bXpTyVI1M-5s",
        "outputId": "c0935955-0bda-4ca9-fe9c-4275ed1dc4ee"
      },
      "execution_count": 16,
      "outputs": [
        {
          "output_type": "stream",
          "name": "stdout",
          "text": [
            "Highest Loss{: .2f}% -79.26078028747433\n"
          ]
        }
      ]
    },
    {
      "cell_type": "code",
      "source": [
        "print(\"7-Day Moving Average(first 10): \",moving_average[:10])"
      ],
      "metadata": {
        "colab": {
          "base_uri": "https://localhost:8080/"
        },
        "id": "zh2u5g_ZNAyr",
        "outputId": "e5152bf4-f451-4a86-82d6-232c5bc099dc"
      },
      "execution_count": 17,
      "outputs": [
        {
          "output_type": "stream",
          "name": "stdout",
          "text": [
            "7-Day Moving Average(first 10):  [0.17353986 0.01300238 0.09799118 0.21408689 0.15762784 0.27760693\n",
            " 0.27831315 0.36734162 0.28916756 0.21709901]\n"
          ]
        }
      ]
    }
  ]
}