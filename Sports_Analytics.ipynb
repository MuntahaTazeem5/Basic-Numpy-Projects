{
  "nbformat": 4,
  "nbformat_minor": 0,
  "metadata": {
    "colab": {
      "provenance": [],
      "authorship_tag": "ABX9TyNTDNtL6weumFi07+miQ6TV",
      "include_colab_link": true
    },
    "kernelspec": {
      "name": "python3",
      "display_name": "Python 3"
    },
    "language_info": {
      "name": "python"
    }
  },
  "cells": [
    {
      "cell_type": "markdown",
      "metadata": {
        "id": "view-in-github",
        "colab_type": "text"
      },
      "source": [
        "<a href=\"https://colab.research.google.com/github/MuntahaTazeem5/Basic-Numpy-Projects/blob/main/Sports_Analytics.ipynb\" target=\"_parent\"><img src=\"https://colab.research.google.com/assets/colab-badge.svg\" alt=\"Open In Colab\"/></a>"
      ]
    },
    {
      "cell_type": "markdown",
      "source": [
        "***Sports Analytics 🏏⚽***\n",
        "\n",
        "**Statement:**\n",
        "You have scores of 11 players in 20 matches stored in a 2D NumPy array. Find:\n",
        "\n",
        "The total runs scored by each player\n",
        "\n",
        "The highest score in a single match\n",
        "\n",
        "The top 3 consistent players based on average score\n",
        "\n",
        "**NumPy Methods Used:**\n",
        "\n",
        "np.sum(axis=1) → player totals\n",
        "\n",
        "np.max() → single match high\n",
        "\n",
        "np.mean(axis=1) + np.argsort() → find best performers"
      ],
      "metadata": {
        "id": "7Q9KCQKRNvtU"
      }
    },
    {
      "cell_type": "code",
      "execution_count": 1,
      "metadata": {
        "id": "NtVeek9nNt0I"
      },
      "outputs": [],
      "source": [
        "import numpy as np"
      ]
    },
    {
      "cell_type": "code",
      "source": [
        "import numpy as np\n",
        "np.random.seed(42)\n",
        "scores=np.random.randint(0,150,size=(11,20))"
      ],
      "metadata": {
        "id": "o9khBys3N-xe"
      },
      "execution_count": 5,
      "outputs": []
    },
    {
      "cell_type": "code",
      "source": [
        "total_runs=np.sum(scores,axis=1)"
      ],
      "metadata": {
        "id": "qmn0x62qo7NM"
      },
      "execution_count": 6,
      "outputs": []
    },
    {
      "cell_type": "code",
      "source": [
        "highest_score=np.max(scores)"
      ],
      "metadata": {
        "id": "zGEF6WEcplQl"
      },
      "execution_count": 7,
      "outputs": []
    },
    {
      "cell_type": "code",
      "source": [
        "avg_scores=np.mean(scores,axis=1)"
      ],
      "metadata": {
        "id": "oVlny8ZbpqLT"
      },
      "execution_count": 8,
      "outputs": []
    },
    {
      "cell_type": "code",
      "source": [
        "top_3_players=np.argsort(avg_scores)[:-3][::-1]"
      ],
      "metadata": {
        "id": "xZmE7kimpvPV"
      },
      "execution_count": 9,
      "outputs": []
    },
    {
      "cell_type": "code",
      "source": [
        "#OUTPUT\n",
        "print(\"Sports Analytics Result\\n\")"
      ],
      "metadata": {
        "colab": {
          "base_uri": "https://localhost:8080/"
        },
        "id": "nVKhvumtqiQp",
        "outputId": "13e81697-135f-4832-90d1-1c8b3020c310"
      },
      "execution_count": 10,
      "outputs": [
        {
          "output_type": "stream",
          "name": "stdout",
          "text": [
            "Sports Analytics Result\n",
            "\n"
          ]
        }
      ]
    },
    {
      "cell_type": "code",
      "source": [
        "print(\"Scores Shape(Palyers x Matches):\",scores.shape)"
      ],
      "metadata": {
        "colab": {
          "base_uri": "https://localhost:8080/"
        },
        "id": "4CXYfQA2qyCy",
        "outputId": "38fceb25-5c44-4edd-b894-8f2f26bdfca9"
      },
      "execution_count": 11,
      "outputs": [
        {
          "output_type": "stream",
          "name": "stdout",
          "text": [
            "Scores Shape(Palyers x Matches): (11, 20)\n"
          ]
        }
      ]
    },
    {
      "cell_type": "code",
      "source": [
        "print(\"Total runs by each player:\\n\",total_runs)"
      ],
      "metadata": {
        "colab": {
          "base_uri": "https://localhost:8080/"
        },
        "id": "PotILSt2rB67",
        "outputId": "2deaed43-d9c7-4cb0-8fb6-67812c214477"
      },
      "execution_count": 12,
      "outputs": [
        {
          "output_type": "stream",
          "name": "stdout",
          "text": [
            "Total runs by each player:\n",
            " [1692 1281 1327 1199 1496 1544 1388 1626 1826 1971 1639]\n"
          ]
        }
      ]
    },
    {
      "cell_type": "code",
      "source": [
        "print(\"\\n Highest score in a single match:\",highest_score)"
      ],
      "metadata": {
        "colab": {
          "base_uri": "https://localhost:8080/"
        },
        "id": "JRyYOXyyrOF5",
        "outputId": "05647785-51ea-4510-eb95-f71523b43512"
      },
      "execution_count": 13,
      "outputs": [
        {
          "output_type": "stream",
          "name": "stdout",
          "text": [
            "\n",
            " Highest score in a single match: 149\n"
          ]
        }
      ]
    },
    {
      "cell_type": "code",
      "source": [
        "print(\"\\n Average scores of each player:\\n\",avg_scores.round(2))"
      ],
      "metadata": {
        "colab": {
          "base_uri": "https://localhost:8080/"
        },
        "id": "a9J_NoYUrbJP",
        "outputId": "faf20dca-80e7-410b-96e9-2154fe334e19"
      },
      "execution_count": 14,
      "outputs": [
        {
          "output_type": "stream",
          "name": "stdout",
          "text": [
            "\n",
            " Average scores of each player:\n",
            " [84.6  64.05 66.35 59.95 74.8  77.2  69.4  81.3  91.3  98.55 81.95]\n"
          ]
        }
      ]
    },
    {
      "cell_type": "code",
      "source": [
        "print(\"\\n Top 3 consistent players(indices): \",top_3_players )"
      ],
      "metadata": {
        "colab": {
          "base_uri": "https://localhost:8080/"
        },
        "id": "qwQu7-durkfu",
        "outputId": "e7a9669b-8813-4720-d2d1-38315f2b64a0"
      },
      "execution_count": 15,
      "outputs": [
        {
          "output_type": "stream",
          "name": "stdout",
          "text": [
            "\n",
            " Top 3 consistent players(indices):  [10  7  5  4  6  2  1  3]\n"
          ]
        }
      ]
    },
    {
      "cell_type": "code",
      "source": [
        "print(\"Top 3 players' Average score: \",avg_scores[top_3_players].round(2))"
      ],
      "metadata": {
        "colab": {
          "base_uri": "https://localhost:8080/"
        },
        "id": "6akpbeqtryCQ",
        "outputId": "dac269ee-6780-4c44-959a-40f1f2f559bf"
      },
      "execution_count": 16,
      "outputs": [
        {
          "output_type": "stream",
          "name": "stdout",
          "text": [
            "Top 3 players' Average score:  [81.95 81.3  77.2  74.8  69.4  66.35 64.05 59.95]\n"
          ]
        }
      ]
    }
  ]
}